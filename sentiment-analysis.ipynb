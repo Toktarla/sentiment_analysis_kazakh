{
 "cells": [
  {
   "cell_type": "code",
   "execution_count": null,
   "metadata": {},
   "outputs": [
    {
     "name": "stderr",
     "output_type": "stream",
     "text": [
      "DEPRECATION: shuup 3.1.0 has a non-standard dependency specifier toml<1pytz>=2015.4,>=0.10.0. pip 24.1 will enforce this behaviour change. A possible replacement is to upgrade to a newer version of shuup or contact the author to suggest that they release a version with a conforming dependency specifiers. Discussion can be found at https://github.com/pypa/pip/issues/12063\n",
      "\n",
      "[notice] A new release of pip is available: 24.0 -> 24.3.1\n",
      "[notice] To update, run: python.exe -m pip install --upgrade pip\n"
     ]
    },
    {
     "name": "stdout",
     "output_type": "stream",
     "text": [
      "Requirement already satisfied: scikit_learn in c:\\users\\toktarla\\appdata\\local\\programs\\python\\python310\\lib\\site-packages (1.5.2)\n",
      "Requirement already satisfied: numpy>=1.19.5 in c:\\users\\toktarla\\appdata\\local\\programs\\python\\python310\\lib\\site-packages (from scikit_learn) (1.23.5)\n",
      "Requirement already satisfied: scipy>=1.6.0 in c:\\users\\toktarla\\appdata\\local\\programs\\python\\python310\\lib\\site-packages (from scikit_learn) (1.13.0)\n",
      "Requirement already satisfied: joblib>=1.2.0 in c:\\users\\toktarla\\appdata\\local\\programs\\python\\python310\\lib\\site-packages (from scikit_learn) (1.4.2)\n",
      "Requirement already satisfied: threadpoolctl>=3.1.0 in c:\\users\\toktarla\\appdata\\local\\programs\\python\\python310\\lib\\site-packages (from scikit_learn) (3.5.0)\n",
      "Requirement already satisfied: transformers[torch] in c:\\users\\toktarla\\appdata\\local\\programs\\python\\python310\\lib\\site-packages (4.46.1)\n",
      "Requirement already satisfied: filelock in c:\\users\\toktarla\\appdata\\local\\programs\\python\\python310\\lib\\site-packages (from transformers[torch]) (3.16.1)\n",
      "Requirement already satisfied: huggingface-hub<1.0,>=0.23.2 in c:\\users\\toktarla\\appdata\\local\\programs\\python\\python310\\lib\\site-packages (from transformers[torch]) (0.26.2)\n",
      "Requirement already satisfied: numpy>=1.17 in c:\\users\\toktarla\\appdata\\local\\programs\\python\\python310\\lib\\site-packages (from transformers[torch]) (1.23.5)\n",
      "Requirement already satisfied: packaging>=20.0 in c:\\users\\toktarla\\appdata\\local\\programs\\python\\python310\\lib\\site-packages (from transformers[torch]) (23.0)\n",
      "Requirement already satisfied: pyyaml>=5.1 in c:\\users\\toktarla\\appdata\\local\\programs\\python\\python310\\lib\\site-packages (from transformers[torch]) (6.0)\n",
      "Requirement already satisfied: regex!=2019.12.17 in c:\\users\\toktarla\\appdata\\local\\programs\\python\\python310\\lib\\site-packages (from transformers[torch]) (2024.9.11)\n",
      "Requirement already satisfied: requests in c:\\users\\toktarla\\appdata\\local\\programs\\python\\python310\\lib\\site-packages (from transformers[torch]) (2.28.1)\n",
      "Requirement already satisfied: safetensors>=0.4.1 in c:\\users\\toktarla\\appdata\\local\\programs\\python\\python310\\lib\\site-packages (from transformers[torch]) (0.4.5)\n",
      "Requirement already satisfied: tokenizers<0.21,>=0.20 in c:\\users\\toktarla\\appdata\\local\\programs\\python\\python310\\lib\\site-packages (from transformers[torch]) (0.20.2)\n",
      "Requirement already satisfied: tqdm>=4.27 in c:\\users\\toktarla\\appdata\\local\\programs\\python\\python310\\lib\\site-packages (from transformers[torch]) (4.64.1)\n",
      "Requirement already satisfied: accelerate>=0.26.0 in c:\\users\\toktarla\\appdata\\local\\programs\\python\\python310\\lib\\site-packages (from transformers[torch]) (1.1.0)\n",
      "Requirement already satisfied: torch in c:\\users\\toktarla\\appdata\\local\\programs\\python\\python310\\lib\\site-packages (from transformers[torch]) (1.12.1)\n",
      "Requirement already satisfied: psutil in c:\\users\\toktarla\\appdata\\local\\programs\\python\\python310\\lib\\site-packages (from accelerate>=0.26.0->transformers[torch]) (5.9.4)\n",
      "Requirement already satisfied: fsspec>=2023.5.0 in c:\\users\\toktarla\\appdata\\local\\programs\\python\\python310\\lib\\site-packages (from huggingface-hub<1.0,>=0.23.2->transformers[torch]) (2024.10.0)\n",
      "Requirement already satisfied: typing-extensions>=3.7.4.3 in c:\\users\\toktarla\\appdata\\local\\programs\\python\\python310\\lib\\site-packages (from huggingface-hub<1.0,>=0.23.2->transformers[torch]) (4.11.0)\n",
      "Requirement already satisfied: colorama in c:\\users\\toktarla\\appdata\\local\\programs\\python\\python310\\lib\\site-packages (from tqdm>=4.27->transformers[torch]) (0.4.5)\n",
      "Requirement already satisfied: charset-normalizer<3,>=2 in c:\\users\\toktarla\\appdata\\local\\programs\\python\\python310\\lib\\site-packages (from requests->transformers[torch]) (2.1.1)\n",
      "Requirement already satisfied: idna<4,>=2.5 in c:\\users\\toktarla\\appdata\\local\\programs\\python\\python310\\lib\\site-packages (from requests->transformers[torch]) (3.3)\n",
      "Requirement already satisfied: urllib3<1.27,>=1.21.1 in c:\\users\\toktarla\\appdata\\local\\programs\\python\\python310\\lib\\site-packages (from requests->transformers[torch]) (1.26.12)\n",
      "Requirement already satisfied: certifi>=2017.4.17 in c:\\users\\toktarla\\appdata\\local\\programs\\python\\python310\\lib\\site-packages (from requests->transformers[torch]) (2022.6.15)\n"
     ]
    },
    {
     "name": "stderr",
     "output_type": "stream",
     "text": [
      "DEPRECATION: shuup 3.1.0 has a non-standard dependency specifier toml<1pytz>=2015.4,>=0.10.0. pip 24.1 will enforce this behaviour change. A possible replacement is to upgrade to a newer version of shuup or contact the author to suggest that they release a version with a conforming dependency specifiers. Discussion can be found at https://github.com/pypa/pip/issues/12063\n",
      "\n",
      "[notice] A new release of pip is available: 24.0 -> 24.3.1\n",
      "[notice] To update, run: python.exe -m pip install --upgrade pip\n"
     ]
    },
    {
     "name": "stdout",
     "output_type": "stream",
     "text": [
      "^C\n"
     ]
    },
    {
     "name": "stderr",
     "output_type": "stream",
     "text": [
      "DEPRECATION: shuup 3.1.0 has a non-standard dependency specifier toml<1pytz>=2015.4,>=0.10.0. pip 24.1 will enforce this behaviour change. A possible replacement is to upgrade to a newer version of shuup or contact the author to suggest that they release a version with a conforming dependency specifiers. Discussion can be found at https://github.com/pypa/pip/issues/12063\n",
      "\n",
      "[notice] A new release of pip is available: 24.0 -> 24.3.1\n",
      "[notice] To update, run: python.exe -m pip install --upgrade pip\n"
     ]
    }
   ],
   "source": [
    "!pip install scikit_learn\n",
    "!pip install transformers[torch]\n",
    "!pip install accelerate>={ACCELERATE_MIN_VERSION}\n",
    "!pip install pandas torch transformers scikit-learn"
   ]
  },
  {
   "cell_type": "markdown",
   "metadata": {},
   "source": [
    "Import Libraries\n"
   ]
  },
  {
   "cell_type": "code",
   "execution_count": 39,
   "metadata": {},
   "outputs": [],
   "source": [
    "import pandas as pd\n",
    "import torch\n",
    "from torch.utils.data import DataLoader, Dataset, random_split\n",
    "from transformers import BertTokenizer, BertForSequenceClassification, Trainer, TrainingArguments, EvalPrediction\n",
    "import os\n",
    "from sklearn.metrics import accuracy_score, f1_score, precision_score, recall_score\n"
   ]
  },
  {
   "cell_type": "markdown",
   "metadata": {},
   "source": [
    "Set Environment Variable"
   ]
  },
  {
   "cell_type": "code",
   "execution_count": 40,
   "metadata": {},
   "outputs": [],
   "source": [
    "os.environ[\"HF_HUB_DISABLE_SYMLINKS_WARNING\"] = \"1\""
   ]
  },
  {
   "cell_type": "markdown",
   "metadata": {},
   "source": [
    "Define Compute Metrics Function"
   ]
  },
  {
   "cell_type": "code",
   "execution_count": 41,
   "metadata": {},
   "outputs": [],
   "source": [
    "def compute_metrics(pred: EvalPrediction):\n",
    "    labels = pred.label_ids\n",
    "    preds = pred.predictions.argmax(-1)  # Get the predicted class indices\n",
    "\n",
    "    accuracy = accuracy_score(labels, preds)\n",
    "    f1 = f1_score(labels, preds, average='weighted')  # or 'macro' based on your preference\n",
    "    precision = precision_score(labels, preds, average='weighted')\n",
    "    recall = recall_score(labels, preds, average='weighted')\n",
    "\n",
    "    return {\n",
    "        'accuracy': accuracy,\n",
    "        'f1': f1,\n",
    "        'precision': precision,\n",
    "        'recall': recall,\n",
    "    }"
   ]
  },
  {
   "cell_type": "markdown",
   "metadata": {},
   "source": [
    "Load the Dataset"
   ]
  },
  {
   "cell_type": "code",
   "execution_count": 46,
   "metadata": {},
   "outputs": [
    {
     "name": "stdout",
     "output_type": "stream",
     "text": [
      "   id                                               text  label\n",
      "0   1                          Бул фильм оте жаксы болды      2\n",
      "1   2                         Маган бул фильм унаган жок      0\n",
      "2   3  Фильмнин басы кызыкты болды бирак соны тусиниксиз      1\n",
      "3   4                          Мен буган оте куаныштымын      2\n",
      "4   5            Бул мен куткеннен әлдекайда нашар болды      0\n"
     ]
    }
   ],
   "source": [
    "# Load the dataset\n",
    "df = pd.read_csv('reviews-kz.csv')\n",
    "\n",
    "# Map text labels to numerical labels\n",
    "label_map = {'positive': 2, 'neutral': 1, 'negative': 0}\n",
    "df['label'] = df['label'].map(label_map)\n",
    "\n",
    "# Show the first few rows\n",
    "print(df.head())\n"
   ]
  },
  {
   "cell_type": "markdown",
   "metadata": {},
   "source": [
    "Load BERT Tokenizer and Model\n",
    "\n"
   ]
  },
  {
   "cell_type": "code",
   "execution_count": null,
   "metadata": {},
   "outputs": [
    {
     "name": "stderr",
     "output_type": "stream",
     "text": [
      "Some weights of BertForSequenceClassification were not initialized from the model checkpoint at bert-base-multilingual-cased and are newly initialized: ['classifier.bias', 'classifier.weight']\n",
      "You should probably TRAIN this model on a down-stream task to be able to use it for predictions and inference.\n"
     ]
    }
   ],
   "source": [
    "# Load the multilingual BERT tokenizer and model\n",
    "model_name = 'bert-base-multilingual-cased'\n",
    "tokenizer = BertTokenizer.from_pretrained(model_name)\n",
    "model = BertForSequenceClassification.from_pretrained(model_name, num_labels=3)\n"
   ]
  },
  {
   "cell_type": "markdown",
   "metadata": {},
   "source": [
    "Create Custom Dataset Class\n",
    "\n"
   ]
  },
  {
   "cell_type": "code",
   "execution_count": null,
   "metadata": {},
   "outputs": [],
   "source": [
    "class KazakhSentimentDataset(Dataset):\n",
    "    def __init__(self, texts, labels, tokenizer, max_len=128):\n",
    "        self.texts = texts\n",
    "        self.labels = labels\n",
    "        self.tokenizer = tokenizer\n",
    "        self.max_len = max_len\n",
    "\n",
    "    def __len__(self):\n",
    "        return len(self.texts)\n",
    "\n",
    "    def __getitem__(self, idx):\n",
    "        text = self.texts[idx]\n",
    "        label = self.labels[idx]\n",
    "\n",
    "        encoding = self.tokenizer.encode_plus(\n",
    "            text,\n",
    "            add_special_tokens=True,\n",
    "            max_length=self.max_len,\n",
    "            truncation=True,\n",
    "            padding='max_length',\n",
    "            return_attention_mask=True,\n",
    "            return_tensors='pt'\n",
    "        )\n",
    "\n",
    "        return {\n",
    "            'input_ids': encoding['input_ids'].flatten(),\n",
    "            'attention_mask': encoding['attention_mask'].flatten(),\n",
    "            'labels': torch.tensor(label, dtype=torch.long)\n",
    "        }\n"
   ]
  },
  {
   "cell_type": "markdown",
   "metadata": {},
   "source": [
    "Prepare the Dataset\n",
    "\n"
   ]
  },
  {
   "cell_type": "code",
   "execution_count": 47,
   "metadata": {},
   "outputs": [],
   "source": [
    "# Prepare dataset\n",
    "texts = df['text'].tolist()\n",
    "labels = df['label'].tolist()\n",
    "\n",
    "# Create dataset and split it into training and validation sets\n",
    "dataset = KazakhSentimentDataset(texts, labels, tokenizer)\n",
    "train_size = int(0.8 * len(dataset))\n",
    "val_size = len(dataset) - train_size\n",
    "train_dataset, val_dataset = random_split(dataset, [train_size, val_size])\n"
   ]
  },
  {
   "cell_type": "markdown",
   "metadata": {},
   "source": [
    "Define Training Arguments"
   ]
  },
  {
   "cell_type": "code",
   "execution_count": 49,
   "metadata": {},
   "outputs": [],
   "source": [
    "training_args = TrainingArguments(\n",
    "    output_dir='C:/Users/Toktarla/OneDrive/Desktop/sentiment-analysis-kz/results',\n",
    "    num_train_epochs=3,\n",
    "    per_device_train_batch_size=8,\n",
    "    per_device_eval_batch_size=8,\n",
    "    warmup_steps=50,\n",
    "    weight_decay=0.01,\n",
    "    logging_dir='C:/Users/Toktarla/OneDrive/Desktop/sentiment-analysis-kz/logs',\n",
    "    logging_steps=10,\n",
    "    eval_strategy=\"epoch\",\n",
    ")"
   ]
  },
  {
   "cell_type": "markdown",
   "metadata": {},
   "source": [
    "Create Trainer and Train the Model"
   ]
  },
  {
   "cell_type": "code",
   "execution_count": 50,
   "metadata": {},
   "outputs": [
    {
     "data": {
      "application/vnd.jupyter.widget-view+json": {
       "model_id": "e5658b66859c410c94778fb93fdcfa77",
       "version_major": 2,
       "version_minor": 0
      },
      "text/plain": [
       "  0%|          | 0/108 [00:00<?, ?it/s]"
      ]
     },
     "metadata": {},
     "output_type": "display_data"
    },
    {
     "name": "stdout",
     "output_type": "stream",
     "text": [
      "{'loss': 1.0918, 'grad_norm': 8.828658103942871, 'learning_rate': 1e-05, 'epoch': 0.28}\n",
      "{'loss': 0.9232, 'grad_norm': 5.253421783447266, 'learning_rate': 2e-05, 'epoch': 0.56}\n",
      "{'loss': 0.7923, 'grad_norm': 7.462895393371582, 'learning_rate': 3e-05, 'epoch': 0.83}\n"
     ]
    },
    {
     "data": {
      "application/vnd.jupyter.widget-view+json": {
       "model_id": "93154ca9ef294ff3816cc20d5a57be59",
       "version_major": 2,
       "version_minor": 0
      },
      "text/plain": [
       "  0%|          | 0/9 [00:00<?, ?it/s]"
      ]
     },
     "metadata": {},
     "output_type": "display_data"
    },
    {
     "name": "stderr",
     "output_type": "stream",
     "text": [
      "c:\\Users\\Toktarla\\AppData\\Local\\Programs\\Python\\Python310\\lib\\site-packages\\sklearn\\metrics\\_classification.py:1531: UndefinedMetricWarning: Precision is ill-defined and being set to 0.0 in labels with no predicted samples. Use `zero_division` parameter to control this behavior.\n",
      "  _warn_prf(average, modifier, f\"{metric.capitalize()} is\", len(result))\n"
     ]
    },
    {
     "name": "stdout",
     "output_type": "stream",
     "text": [
      "{'eval_loss': 0.7051713466644287, 'eval_accuracy': 0.704225352112676, 'eval_f1': 0.6719912973777624, 'eval_precision': 0.6485715914922734, 'eval_recall': 0.704225352112676, 'eval_runtime': 19.9934, 'eval_samples_per_second': 3.551, 'eval_steps_per_second': 0.45, 'epoch': 1.0}\n",
      "{'loss': 0.6787, 'grad_norm': 6.217649459838867, 'learning_rate': 4e-05, 'epoch': 1.11}\n",
      "{'loss': 0.6681, 'grad_norm': 6.977437496185303, 'learning_rate': 5e-05, 'epoch': 1.39}\n",
      "{'loss': 0.5157, 'grad_norm': 31.668140411376953, 'learning_rate': 4.1379310344827587e-05, 'epoch': 1.67}\n",
      "{'loss': 0.356, 'grad_norm': 6.615902423858643, 'learning_rate': 3.275862068965517e-05, 'epoch': 1.94}\n"
     ]
    },
    {
     "data": {
      "application/vnd.jupyter.widget-view+json": {
       "model_id": "c8a3ac7cc2374cefa5f572879d728596",
       "version_major": 2,
       "version_minor": 0
      },
      "text/plain": [
       "  0%|          | 0/9 [00:00<?, ?it/s]"
      ]
     },
     "metadata": {},
     "output_type": "display_data"
    },
    {
     "name": "stderr",
     "output_type": "stream",
     "text": [
      "c:\\Users\\Toktarla\\AppData\\Local\\Programs\\Python\\Python310\\lib\\site-packages\\sklearn\\metrics\\_classification.py:1531: UndefinedMetricWarning: Precision is ill-defined and being set to 0.0 in labels with no predicted samples. Use `zero_division` parameter to control this behavior.\n",
      "  _warn_prf(average, modifier, f\"{metric.capitalize()} is\", len(result))\n"
     ]
    },
    {
     "name": "stdout",
     "output_type": "stream",
     "text": [
      "{'eval_loss': 0.6746416687965393, 'eval_accuracy': 0.8169014084507042, 'eval_f1': 0.7895947111238861, 'eval_precision': 0.7673448095983307, 'eval_recall': 0.8169014084507042, 'eval_runtime': 19.698, 'eval_samples_per_second': 3.604, 'eval_steps_per_second': 0.457, 'epoch': 2.0}\n",
      "{'loss': 0.6764, 'grad_norm': 45.71118927001953, 'learning_rate': 2.413793103448276e-05, 'epoch': 2.22}\n",
      "{'loss': 0.2744, 'grad_norm': 0.6593054533004761, 'learning_rate': 1.5517241379310346e-05, 'epoch': 2.5}\n",
      "{'loss': 0.2342, 'grad_norm': 5.94890022277832, 'learning_rate': 6.896551724137932e-06, 'epoch': 2.78}\n"
     ]
    },
    {
     "data": {
      "application/vnd.jupyter.widget-view+json": {
       "model_id": "81899c00cdb543dc976191daaf41cf1e",
       "version_major": 2,
       "version_minor": 0
      },
      "text/plain": [
       "  0%|          | 0/9 [00:00<?, ?it/s]"
      ]
     },
     "metadata": {},
     "output_type": "display_data"
    },
    {
     "name": "stdout",
     "output_type": "stream",
     "text": [
      "{'eval_loss': 0.6780774593353271, 'eval_accuracy': 0.8450704225352113, 'eval_f1': 0.8143980942511255, 'eval_precision': 0.7859104984517031, 'eval_recall': 0.8450704225352113, 'eval_runtime': 20.0638, 'eval_samples_per_second': 3.539, 'eval_steps_per_second': 0.449, 'epoch': 3.0}\n",
      "{'train_runtime': 982.6202, 'train_samples_per_second': 0.861, 'train_steps_per_second': 0.11, 'train_loss': 0.6001380306703074, 'epoch': 3.0}\n"
     ]
    },
    {
     "name": "stderr",
     "output_type": "stream",
     "text": [
      "c:\\Users\\Toktarla\\AppData\\Local\\Programs\\Python\\Python310\\lib\\site-packages\\sklearn\\metrics\\_classification.py:1531: UndefinedMetricWarning: Precision is ill-defined and being set to 0.0 in labels with no predicted samples. Use `zero_division` parameter to control this behavior.\n",
      "  _warn_prf(average, modifier, f\"{metric.capitalize()} is\", len(result))\n"
     ]
    },
    {
     "data": {
      "text/plain": [
       "TrainOutput(global_step=108, training_loss=0.6001380306703074, metrics={'train_runtime': 982.6202, 'train_samples_per_second': 0.861, 'train_steps_per_second': 0.11, 'total_flos': 55648487849472.0, 'train_loss': 0.6001380306703074, 'epoch': 3.0})"
      ]
     },
     "execution_count": 50,
     "metadata": {},
     "output_type": "execute_result"
    }
   ],
   "source": [
    "# Create a Trainer\n",
    "trainer = Trainer(\n",
    "    model=model,\n",
    "    args=training_args,\n",
    "    train_dataset=train_dataset,\n",
    "    eval_dataset=val_dataset,\n",
    "    compute_metrics=compute_metrics\n",
    ")\n",
    "\n",
    "# Train the model\n",
    "trainer.train()\n"
   ]
  },
  {
   "cell_type": "markdown",
   "metadata": {},
   "source": [
    "Evaluate the Model"
   ]
  },
  {
   "cell_type": "code",
   "execution_count": 51,
   "metadata": {},
   "outputs": [
    {
     "data": {
      "application/vnd.jupyter.widget-view+json": {
       "model_id": "1c6a9b8fce16490f99a43e2cfabae1b4",
       "version_major": 2,
       "version_minor": 0
      },
      "text/plain": [
       "  0%|          | 0/9 [00:00<?, ?it/s]"
      ]
     },
     "metadata": {},
     "output_type": "display_data"
    },
    {
     "name": "stdout",
     "output_type": "stream",
     "text": [
      "{'eval_loss': 0.6780774593353271, 'eval_accuracy': 0.8450704225352113, 'eval_f1': 0.8143980942511255, 'eval_precision': 0.7859104984517031, 'eval_recall': 0.8450704225352113, 'eval_runtime': 21.2201, 'eval_samples_per_second': 3.346, 'eval_steps_per_second': 0.424, 'epoch': 3.0}\n",
      "Validation Accuracy: 0.8450704225352113\n",
      "Validation F1 Score: 0.8143980942511255\n",
      "Validation Precision: 0.7859104984517031\n",
      "Validation Recall: 0.8450704225352113\n"
     ]
    },
    {
     "name": "stderr",
     "output_type": "stream",
     "text": [
      "c:\\Users\\Toktarla\\AppData\\Local\\Programs\\Python\\Python310\\lib\\site-packages\\sklearn\\metrics\\_classification.py:1531: UndefinedMetricWarning: Precision is ill-defined and being set to 0.0 in labels with no predicted samples. Use `zero_division` parameter to control this behavior.\n",
      "  _warn_prf(average, modifier, f\"{metric.capitalize()} is\", len(result))\n"
     ]
    }
   ],
   "source": [
    "# Evaluate the model on the validation set\n",
    "eval_result = trainer.evaluate()\n",
    "\n",
    "# Access the evaluation results\n",
    "accuracy = eval_result.get('eval_accuracy', eval_result.get('accuracy'))\n",
    "f1 = eval_result.get('eval_f1', eval_result.get('f1'))\n",
    "precision = eval_result.get('eval_precision', eval_result.get('precision'))\n",
    "recall = eval_result.get('eval_recall', eval_result.get('recall'))\n",
    "\n",
    "print(eval_result)\n",
    "print(f\"Validation Accuracy: {accuracy}\")\n",
    "print(f\"Validation F1 Score: {f1}\")\n",
    "print(f\"Validation Precision: {precision}\")\n",
    "print(f\"Validation Recall: {recall}\")\n"
   ]
  },
  {
   "cell_type": "markdown",
   "metadata": {},
   "source": [
    "Define Prediction Function\n"
   ]
  },
  {
   "cell_type": "code",
   "execution_count": 52,
   "metadata": {},
   "outputs": [],
   "source": [
    "def predict_sentiment(text):\n",
    "    encoding = tokenizer.encode_plus(\n",
    "        text,\n",
    "        add_special_tokens=True,\n",
    "        max_length=128,\n",
    "        truncation=True,\n",
    "        padding='max_length',\n",
    "        return_attention_mask=True,\n",
    "        return_tensors='pt'\n",
    "    )\n",
    "\n",
    "    input_ids = encoding['input_ids']\n",
    "    attention_mask = encoding['attention_mask']\n",
    "\n",
    "    # Predict\n",
    "    output = model(input_ids, attention_mask=attention_mask)\n",
    "    logits = output.logits\n",
    "    prediction = torch.argmax(logits, dim=1).item()\n",
    "\n",
    "    label_map_reverse = {v: k for k, v in label_map.items()}\n",
    "    return label_map_reverse[prediction]\n"
   ]
  },
  {
   "cell_type": "markdown",
   "metadata": {},
   "source": [
    "Test Prediction with Sample Text\n"
   ]
  },
  {
   "cell_type": "code",
   "execution_count": 63,
   "metadata": {},
   "outputs": [
    {
     "name": "stdout",
     "output_type": "stream",
     "text": [
      "Predicted Sentiment: positive\n"
     ]
    }
   ],
   "source": [
    "# Test with a new text\n",
    "sample_text = \"Жумыс барысында сынбайтын рух керек\"\n",
    "print(f\"Predicted Sentiment: {predict_sentiment(sample_text)}\")\n"
   ]
  }
 ],
 "metadata": {
  "kernelspec": {
   "display_name": "Python 3",
   "language": "python",
   "name": "python3"
  },
  "language_info": {
   "codemirror_mode": {
    "name": "ipython",
    "version": 3
   },
   "file_extension": ".py",
   "mimetype": "text/x-python",
   "name": "python",
   "nbconvert_exporter": "python",
   "pygments_lexer": "ipython3",
   "version": "3.10.6"
  }
 },
 "nbformat": 4,
 "nbformat_minor": 2
}
